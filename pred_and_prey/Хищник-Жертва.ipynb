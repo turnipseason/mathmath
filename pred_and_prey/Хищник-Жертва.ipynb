{
 "cells": [
  {
   "cell_type": "markdown",
   "metadata": {},
   "source": [
    "## **Лабораторная работа: Дифференциальные уравнения.**\n",
    "### **Задание 1. Модель \"хищник-жертва\"**  \n",
    "\n",
    "Имеются два биологических вида численностью в момент времени $t$ соответственно $x(t)$ и $y(t)$. Особи первого вида являются пищей для особей второго вида (хищников). Численности популяций в начальный момент времени известны. Требуется определить численность видов в произвольный момент времени.  \n",
    "Математической моделью задачи является система дифференциальных уравнений Лотки – Вольтерра:  \n",
    "$$\\begin{cases}\n",
    "    \\large{\\frac{dx}{dt} = (a-by)x} \\\\\n",
    "    \\large{\\frac{dy}{dt} = (-c+dx)y}\n",
    "\\end{cases}$$  \n",
    "где $a, b, c, d$ – положительные константы.\n",
    "\n",
    "$a$ определяет естественный прирост жертв в отсутствие хищников <br>\n",
    "$b$ определяет убыль жертв при наличии хищников<br>\n",
    "$c$ определяет убыть хищников при отсутствии жертв<br>\n",
    "$d$ определяет сколько жертв нужно чтобы появился новый хищник <br>\n",
    "\n",
    "\n",
    "Проведем расчет численности популяций; параметры $a, c, d$ заданы, а параметр $b$ - изменяется."
   ]
  },
  {
   "cell_type": "markdown",
   "metadata": {},
   "source": [
    "<h2>Код на Sage + numpy</h2>\n",
    "<h3>Различные кривые при постепенно уменьшающемся параметре b</h3>"
   ]
  },
  {
   "cell_type": "code",
   "execution_count": 15,
   "metadata": {},
   "outputs": [
    {
     "data": {
      "application/vnd.jupyter.widget-view+json": {
       "model_id": "b76abad8b6434c6a8ac4d7a8873e0f78",
       "version_major": 2,
       "version_minor": 0
      },
      "text/plain": [
       "Manual interactive function <function _ at 0x6fff0bee63b0> with 5 widgets\n",
       "  A: SelectionSlider(description='A'…"
      ]
     },
     "metadata": {},
     "output_type": "display_data"
    }
   ],
   "source": [
    "var(\"y1, y2\")\n",
    "y0 = [2, 1]\n",
    "\n",
    "def show_graph(a, b, c, d, x):\n",
    "    g = plot(0, (x, 0, 3), color='black')  #объект для графика\n",
    "    for el in range(b):\n",
    "        st = f\"a={a} b={b} c={c} d={d}\" #строка для описания на графике\n",
    "        rgb = (randint(0,256)/256, randint(0,256)/256, randint(0,256)/256) #tuple из 3 чисел для rgb\n",
    "        f = [y1*(a-b*y2),y2*(-c+d*y1)] #задаем функцию\n",
    "        sol = desolve_odeint(f, y0, t, dvars=[y1, y2]) #получаем решение ОДУ\n",
    "        g += line(sol, rgbcolor=rgb, legend_label=st) #прибавляем объект для графика\n",
    "        b-=1\n",
    "    \n",
    "    \n",
    "    g.show(xmin=0, xmax=10, ymin=0, ymax=10, aspect_ratio=1) #отображаем график\n",
    "    \n",
    "    \n",
    "@interact \n",
    "def _(A=slider([1 .. 10]), B=slider([2 .. 10]), C=slider([1 .. 10]), D=slider([1 .. 10]), X=slider([1 .. 10]), auto_update=False):\n",
    "    show(show_graph(a=A, b=B, c=C, d=D, x=X))"
   ]
  },
  {
   "cell_type": "markdown",
   "metadata": {},
   "source": [
    "<h1>Пример из книги: Mathematical Computation with Sage by Paul Zimmermann et al.</h1>\n",
    "<h2>Графики при различных начальных значениях популяции</h2>"
   ]
  },
  {
   "cell_type": "code",
   "execution_count": 10,
   "metadata": {},
   "outputs": [
    {
     "data": {
      "application/vnd.jupyter.widget-view+json": {
       "model_id": "929f722cb61a401291b2e7c7f2a47a60",
       "version_major": 2,
       "version_minor": 0
      },
      "text/plain": [
       "Manual interactive function <function _ at 0x6fff0bee64d0> with 3 widgets\n",
       "  rabbit_number_initial: SelectionSl…"
      ]
     },
     "metadata": {},
     "output_type": "display_data"
    }
   ],
   "source": [
    "import scipy; from scipy import integrate\n",
    "a, b, c, d = 1., 0.1, 1.5, 0.75\n",
    "\n",
    "\n",
    "\n",
    "def dX_dt(X, t=0): # returns the population variation\n",
    "\treturn [a*X[0] - b*X[0]*X[1], -c*X[1] + d*b*X[0]*X[1]]\n",
    "\n",
    "def g(x,y):\n",
    "\tv = vector(dX_dt([x, y])) # for a nicer graph, we\n",
    "\treturn v/v.norm() # normalise the vector field\n",
    "\n",
    "def graph(rab_num_0, fox_num_0, step):\n",
    "    t = srange(0, 15, .01) # time scale\n",
    "    X0 = [rab_num_0, fox_num_0] # initial conditions: 10 rabbits and 5 foxes\n",
    "    X = integrate.odeint(dX_dt, X0, t) # numerical solution\n",
    "    rabbits, foxes = X.T # shortcut for X.transpose()\n",
    "    p = line(zip(t, rabbits), color='red') # number of rabbits graph\n",
    "    p += text(\"Rabbits\",(12,37), fontsize=10, color='red')\n",
    "    p += line(zip(t, foxes), color='blue') # idem for foxes\n",
    "    p += text(\"Foxes\",(12,7), fontsize=10, color='blue')\n",
    "    p.axes_labels([\"time\", \"population\"]); p.show(gridlines=True)\n",
    "    n = 11\n",
    "    L = srange(6, 18, step / n); R = srange(3, 9, step / n)\n",
    "    CI = zip(L, R) # list of initial conditions\n",
    "\n",
    "\n",
    "\n",
    "    x, y = var('x, y')\n",
    "    q = plot_vector_field(g(x, y), (x, 0, 60), (y, 0, 36))\n",
    "    for j, ci_ in enumerate(CI):\n",
    "        if j > 10: break\n",
    "        X = integrate.odeint(dX_dt, ci_, t) # resolution\n",
    "        q += line(X, color=hue(.8-float(j)/(1.8*n))) # graph plot\n",
    "\n",
    "    q.axes_labels([\"rabbits\",\"foxes\"]); q.show()\n",
    "    \n",
    "    \n",
    "@interact \n",
    "def _(rabbit_number_initial=slider([1 .. 50]), fox_number_initial=slider([1 .. 50]), _step=slider([1 .. 10]), auto_update=False):\n",
    "    show(graph(rab_num_0=rabbit_number_initial, fox_num_0=fox_number_initial,step=_step))"
   ]
  },
  {
   "cell_type": "code",
   "execution_count": null,
   "metadata": {},
   "outputs": [],
   "source": []
  }
 ],
 "metadata": {
  "kernelspec": {
   "display_name": "SageMath 9.3",
   "language": "sage",
   "name": "sagemath"
  },
  "language_info": {
   "codemirror_mode": {
    "name": "ipython",
    "version": 3
   },
   "file_extension": ".py",
   "mimetype": "text/x-python",
   "name": "python",
   "nbconvert_exporter": "python",
   "pygments_lexer": "ipython3",
   "version": "3.7.10"
  }
 },
 "nbformat": 4,
 "nbformat_minor": 4
}
